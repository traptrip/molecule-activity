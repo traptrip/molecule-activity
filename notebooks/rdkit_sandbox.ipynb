{
 "cells": [
  {
   "cell_type": "markdown",
   "metadata": {},
   "source": [
    "### Песочница для изучения либы `rdkit`"
   ]
  },
  {
   "cell_type": "code",
   "execution_count": 2,
   "metadata": {},
   "outputs": [],
   "source": [
    "from pathlib import Path\n",
    "\n",
    "import pandas as pd\n",
    "from rdkit import Chem\n",
    "from rdkit.Chem.Draw import MolToImage, MolsToGridImage\n",
    "from rdkit.Chem.rdDistGeom import GetMoleculeBoundsMatrix\n",
    "from rdkit.Chem.rdmolops import GetAdjacencyMatrix\n",
    "\n",
    "PROJECT_DIR = Path(\"./\").resolve().parent\n",
    "# df = pd.read_csv(PROJECT_DIR / \"data\" / \"raw\" / \"train.csv\", index_col=0)"
   ]
  },
  {
   "cell_type": "code",
   "execution_count": 3,
   "metadata": {},
   "outputs": [],
   "source": [
    "df = pd.read_csv(\"../data/processed/train.csv\", nrows=100)"
   ]
  },
  {
   "cell_type": "code",
   "execution_count": 69,
   "metadata": {},
   "outputs": [
    {
     "data": {
      "text/plain": [
       "Smiles    Nc1ccc(O)c2ncccc12\n",
       "Active                  True\n",
       "Name: 17, dtype: object"
      ]
     },
     "execution_count": 69,
     "metadata": {},
     "output_type": "execute_result"
    }
   ],
   "source": [
    "df.loc[df['Active']].iloc[0]"
   ]
  },
  {
   "cell_type": "code",
   "execution_count": 75,
   "metadata": {},
   "outputs": [
    {
     "data": {
      "text/html": [
       "<div>\n",
       "<style scoped>\n",
       "    .dataframe tbody tr th:only-of-type {\n",
       "        vertical-align: middle;\n",
       "    }\n",
       "\n",
       "    .dataframe tbody tr th {\n",
       "        vertical-align: top;\n",
       "    }\n",
       "\n",
       "    .dataframe thead th {\n",
       "        text-align: right;\n",
       "    }\n",
       "</style>\n",
       "<table border=\"1\" class=\"dataframe\">\n",
       "  <thead>\n",
       "    <tr style=\"text-align: right;\">\n",
       "      <th></th>\n",
       "      <th>Smiles</th>\n",
       "      <th>Active</th>\n",
       "    </tr>\n",
       "  </thead>\n",
       "  <tbody>\n",
       "  </tbody>\n",
       "</table>\n",
       "</div>"
      ],
      "text/plain": [
       "Empty DataFrame\n",
       "Columns: [Smiles, Active]\n",
       "Index: []"
      ]
     },
     "execution_count": 75,
     "metadata": {},
     "output_type": "execute_result"
    }
   ],
   "source": [
    "df.loc[df['Smiles'].duplicated()]"
   ]
  },
  {
   "cell_type": "code",
   "execution_count": 76,
   "metadata": {},
   "outputs": [],
   "source": [
    "string = 'Cc1ccccc1'\n",
    "string = 'Nc1ccc(O)c2ncccc12'\n",
    "mol = Chem.MolFromSmiles(string)"
   ]
  },
  {
   "cell_type": "code",
   "execution_count": 77,
   "metadata": {},
   "outputs": [
    {
     "data": {
      "text/plain": [
       "12"
      ]
     },
     "execution_count": 77,
     "metadata": {},
     "output_type": "execute_result"
    }
   ],
   "source": [
    "mol.GetNumAtoms()"
   ]
  },
  {
   "cell_type": "code",
   "execution_count": 101,
   "metadata": {},
   "outputs": [
    {
     "data": {
      "text/plain": [
       "'N'"
      ]
     },
     "execution_count": 101,
     "metadata": {},
     "output_type": "execute_result"
    }
   ],
   "source": [
    "mol.GetAtoms()[0].GetSymbol()"
   ]
  },
  {
   "cell_type": "code",
   "execution_count": 106,
   "metadata": {},
   "outputs": [
    {
     "name": "stdout",
     "output_type": "stream",
     "text": [
      "N 1\n",
      "N 1.0 C\n",
      "C 3\n",
      "N 1.0 C\n",
      "C 2\n",
      "C 1.5 C\n",
      "C 2\n",
      "C 1.5 C\n",
      "C 3\n",
      "C 1.5 C\n",
      "O 1\n",
      "C 1.0 O\n",
      "C 3\n",
      "C 1.5 C\n",
      "N 2\n",
      "C 1.5 N\n",
      "C 2\n",
      "N 1.5 C\n",
      "C 2\n",
      "C 1.5 C\n",
      "C 2\n",
      "C 1.5 C\n",
      "C 3\n",
      "C 1.5 C\n"
     ]
    }
   ],
   "source": [
    "for item in mol.GetAtoms():\n",
    "    # print(item.GetSymbol())\n",
    "    # print(item.GetNeighbors())\n",
    "    bound = item.GetBonds()[0]\n",
    "    print(item.GetSymbol(), len(item.GetBonds()))\n",
    "    print(bound.GetBeginAtom().GetSymbol(), bound.GetBondTypeAsDouble(), bound.GetEndAtom().GetSymbol())\n",
    "    # print(bound.GetIdx())\n",
    "    \n",
    "# for item in mol.GetBonds():\n",
    "#     print(item.GetBondTypeAsDouble())"
   ]
  },
  {
   "cell_type": "code",
   "execution_count": 79,
   "metadata": {},
   "outputs": [
    {
     "data": {
      "image/png": "[encoded data removed]",
      "text/plain": [
       "<PIL.PngImagePlugin.PngImageFile image mode=RGB size=300x300 at 0x7FE9936F0AF0>"
      ]
     },
     "execution_count": 79,
     "metadata": {},
     "output_type": "execute_result"
    }
   ],
   "source": [
    "MolToImage(mol)"
   ]
  },
  {
   "cell_type": "code",
   "execution_count": 80,
   "metadata": {},
   "outputs": [
    {
     "name": "stdout",
     "output_type": "stream",
     "text": [
      "0.000\t1.000\t0.000\t0.000\t0.000\t0.000\t0.000\t0.000\t0.000\t0.000\t0.000\t0.000\t\n",
      "1.000\t0.000\t1.000\t0.000\t0.000\t0.000\t0.000\t0.000\t0.000\t0.000\t0.000\t1.000\t\n",
      "0.000\t1.000\t0.000\t1.000\t0.000\t0.000\t0.000\t0.000\t0.000\t0.000\t0.000\t0.000\t\n",
      "0.000\t0.000\t1.000\t0.000\t1.000\t0.000\t0.000\t0.000\t0.000\t0.000\t0.000\t0.000\t\n",
      "0.000\t0.000\t0.000\t1.000\t0.000\t1.000\t1.000\t0.000\t0.000\t0.000\t0.000\t0.000\t\n",
      "0.000\t0.000\t0.000\t0.000\t1.000\t0.000\t0.000\t0.000\t0.000\t0.000\t0.000\t0.000\t\n",
      "0.000\t0.000\t0.000\t0.000\t1.000\t0.000\t0.000\t1.000\t0.000\t0.000\t0.000\t1.000\t\n",
      "0.000\t0.000\t0.000\t0.000\t0.000\t0.000\t1.000\t0.000\t1.000\t0.000\t0.000\t0.000\t\n",
      "0.000\t0.000\t0.000\t0.000\t0.000\t0.000\t0.000\t1.000\t0.000\t1.000\t0.000\t0.000\t\n",
      "0.000\t0.000\t0.000\t0.000\t0.000\t0.000\t0.000\t0.000\t1.000\t0.000\t1.000\t0.000\t\n",
      "0.000\t0.000\t0.000\t0.000\t0.000\t0.000\t0.000\t0.000\t0.000\t1.000\t0.000\t1.000\t\n",
      "0.000\t1.000\t0.000\t0.000\t0.000\t0.000\t1.000\t0.000\t0.000\t0.000\t1.000\t0.000\t\n"
     ]
    }
   ],
   "source": [
    "for array in GetAdjacencyMatrix(mol):\n",
    "    for item in array:\n",
    "        print(f\"{item:.3f}\", end=\"\\t\")\n",
    "    print()"
   ]
  },
  {
   "cell_type": "code",
   "execution_count": 64,
   "metadata": {},
   "outputs": [
    {
     "name": "stdout",
     "output_type": "stream",
     "text": [
      "0.000\t1.000\t0.000\t0.000\t0.000\t0.000\t0.000\t\n",
      "1.000\t0.000\t1.000\t0.000\t0.000\t0.000\t1.000\t\n",
      "0.000\t1.000\t0.000\t1.000\t0.000\t0.000\t0.000\t\n",
      "0.000\t0.000\t1.000\t0.000\t1.000\t0.000\t0.000\t\n",
      "0.000\t0.000\t0.000\t1.000\t0.000\t1.000\t0.000\t\n",
      "0.000\t0.000\t0.000\t0.000\t1.000\t0.000\t1.000\t\n",
      "0.000\t1.000\t0.000\t0.000\t0.000\t1.000\t0.000\t\n"
     ]
    }
   ],
   "source": [
    "for array in GetAdjacencyMatrix(mol):\n",
    "    for item in array:\n",
    "        print(f\"{item:.3f}\", end=\"\\t\")\n",
    "    print()"
   ]
  },
  {
   "cell_type": "code",
   "execution_count": 67,
   "metadata": {},
   "outputs": [],
   "source": [
    "# for array in GetMoleculeBoundsMatrix(mol):\n",
    "#     for item in array:\n",
    "#         print(f\"{item:.3f}\", end=\"\\t\")\n",
    "#     print()"
   ]
  },
  {
   "cell_type": "code",
   "execution_count": null,
   "metadata": {},
   "outputs": [],
   "source": []
  }
 ],
 "metadata": {
  "interpreter": {
   "hash": "ca1a56008aea3d0d1a51692f38ca5eeb81d08428379e991097172c30d87fe8d1"
  },
  "kernelspec": {
   "display_name": "Python 3.9.2 ('audio_spoof')",
   "language": "python",
   "name": "python3"
  },
  "language_info": {
   "codemirror_mode": {
    "name": "ipython",
    "version": 3
   },
   "file_extension": ".py",
   "mimetype": "text/x-python",
   "name": "python",
   "nbconvert_exporter": "python",
   "pygments_lexer": "ipython3",
   "version": "3.9.2"
  },
  "orig_nbformat": 4
 },
 "nbformat": 4,
 "nbformat_minor": 2
}
