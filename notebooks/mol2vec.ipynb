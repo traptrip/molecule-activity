{
 "cells": [
  {
   "cell_type": "code",
   "execution_count": 2,
   "id": "f2587106",
   "metadata": {
    "scrolled": true
   },
   "outputs": [
    {
     "name": "stdout",
     "output_type": "stream",
     "text": [
      "Collecting git+https://github.com/samoturk/mol2vec\n",
      "  Cloning https://github.com/samoturk/mol2vec to /tmp/pip-req-build-ftkwl7vo\n",
      "  Running command git clone --filter=blob:none --quiet https://github.com/samoturk/mol2vec /tmp/pip-req-build-ftkwl7vo\n",
      "  Resolved https://github.com/samoturk/mol2vec to commit 850d944d5f48a58e26ed0264332b5741f72555aa\n",
      "  Preparing metadata (setup.py) ... \u001b[?25ldone\n",
      "\u001b[?25hRequirement already satisfied: numpy in /home/and/miniforge3/envs/molecule-activity/lib/python3.8/site-packages (from mol2vec==0.1) (1.22.2)\n",
      "Collecting gensim\n",
      "  Downloading gensim-4.1.2-cp38-cp38-manylinux_2_12_x86_64.manylinux2010_x86_64.whl (24.1 MB)\n",
      "\u001b[2K     \u001b[38;2;114;156;31m━━━━━━━━━━━━━━━━━━━━━━━━━━━━━━━━━━━━━━━━\u001b[0m \u001b[32m24.1/24.1 MB\u001b[0m \u001b[31m9.7 MB/s\u001b[0m eta \u001b[36m0:00:00\u001b[0m0m eta \u001b[36m0:00:01\u001b[0m[36m0:00:01\u001b[0m\n",
      "\u001b[?25hRequirement already satisfied: tqdm in /home/and/miniforge3/envs/molecule-activity/lib/python3.8/site-packages (from mol2vec==0.1) (4.62.3)\n",
      "Requirement already satisfied: joblib in /home/and/miniforge3/envs/molecule-activity/lib/python3.8/site-packages (from mol2vec==0.1) (1.1.0)\n",
      "Requirement already satisfied: pandas in /home/and/miniforge3/envs/molecule-activity/lib/python3.8/site-packages (from mol2vec==0.1) (1.4.0)\n",
      "Requirement already satisfied: matplotlib in /home/and/miniforge3/envs/molecule-activity/lib/python3.8/site-packages (from mol2vec==0.1) (3.5.1)\n",
      "Requirement already satisfied: IPython in /home/and/.local/lib/python3.8/site-packages (from mol2vec==0.1) (7.30.0)\n",
      "Collecting seaborn\n",
      "  Using cached seaborn-0.11.2-py3-none-any.whl (292 kB)\n",
      "Collecting smart-open>=1.8.1\n",
      "  Downloading smart_open-5.2.1-py3-none-any.whl (58 kB)\n",
      "\u001b[2K     \u001b[38;2;114;156;31m━━━━━━━━━━━━━━━━━━━━━━━━━━━━━━━━━━━━━━━━\u001b[0m \u001b[32m58.6/58.6 KB\u001b[0m \u001b[31m7.4 MB/s\u001b[0m eta \u001b[36m0:00:00\u001b[0m\n",
      "\u001b[?25hRequirement already satisfied: scipy>=0.18.1 in /home/and/miniforge3/envs/molecule-activity/lib/python3.8/site-packages (from gensim->mol2vec==0.1) (1.8.0)\n",
      "Requirement already satisfied: pygments in /home/and/miniforge3/envs/molecule-activity/lib/python3.8/site-packages (from IPython->mol2vec==0.1) (2.11.2)\n",
      "Requirement already satisfied: setuptools>=18.5 in /home/and/miniforge3/envs/molecule-activity/lib/python3.8/site-packages (from IPython->mol2vec==0.1) (60.8.1)\n",
      "Requirement already satisfied: pickleshare in /home/and/.local/lib/python3.8/site-packages (from IPython->mol2vec==0.1) (0.7.5)\n",
      "Requirement already satisfied: prompt-toolkit!=3.0.0,!=3.0.1,<3.1.0,>=2.0.0 in /home/and/.local/lib/python3.8/site-packages (from IPython->mol2vec==0.1) (3.0.23)\n",
      "Requirement already satisfied: backcall in /home/and/.local/lib/python3.8/site-packages (from IPython->mol2vec==0.1) (0.2.0)\n",
      "Requirement already satisfied: traitlets>=4.2 in /home/and/.local/lib/python3.8/site-packages (from IPython->mol2vec==0.1) (5.1.1)\n",
      "Requirement already satisfied: pexpect>4.3 in /home/and/miniforge3/envs/molecule-activity/lib/python3.8/site-packages (from IPython->mol2vec==0.1) (4.8.0)\n",
      "Requirement already satisfied: matplotlib-inline in /home/and/.local/lib/python3.8/site-packages (from IPython->mol2vec==0.1) (0.1.3)\n",
      "Requirement already satisfied: jedi>=0.16 in /home/and/.local/lib/python3.8/site-packages (from IPython->mol2vec==0.1) (0.18.1)\n",
      "Requirement already satisfied: decorator in /home/and/.local/lib/python3.8/site-packages (from IPython->mol2vec==0.1) (5.1.0)\n",
      "Requirement already satisfied: python-dateutil>=2.7 in /home/and/miniforge3/envs/molecule-activity/lib/python3.8/site-packages (from matplotlib->mol2vec==0.1) (2.8.2)\n",
      "Requirement already satisfied: pyparsing>=2.2.1 in /home/and/.local/lib/python3.8/site-packages (from matplotlib->mol2vec==0.1) (3.0.6)\n",
      "Requirement already satisfied: pillow>=6.2.0 in /home/and/miniforge3/envs/molecule-activity/lib/python3.8/site-packages (from matplotlib->mol2vec==0.1) (9.0.1)\n",
      "Requirement already satisfied: cycler>=0.10 in /home/and/miniforge3/envs/molecule-activity/lib/python3.8/site-packages (from matplotlib->mol2vec==0.1) (0.11.0)\n",
      "Requirement already satisfied: fonttools>=4.22.0 in /home/and/miniforge3/envs/molecule-activity/lib/python3.8/site-packages (from matplotlib->mol2vec==0.1) (4.29.1)\n",
      "Requirement already satisfied: packaging>=20.0 in /home/and/.local/lib/python3.8/site-packages (from matplotlib->mol2vec==0.1) (21.3)\n",
      "Requirement already satisfied: kiwisolver>=1.0.1 in /home/and/miniforge3/envs/molecule-activity/lib/python3.8/site-packages (from matplotlib->mol2vec==0.1) (1.3.2)\n",
      "Requirement already satisfied: pytz>=2020.1 in /home/and/miniforge3/envs/molecule-activity/lib/python3.8/site-packages (from pandas->mol2vec==0.1) (2021.3)\n",
      "Requirement already satisfied: parso<0.9.0,>=0.8.0 in /home/and/.local/lib/python3.8/site-packages (from jedi>=0.16->IPython->mol2vec==0.1) (0.8.2)\n",
      "Requirement already satisfied: ptyprocess>=0.5 in /home/and/.local/lib/python3.8/site-packages (from pexpect>4.3->IPython->mol2vec==0.1) (0.7.0)\n",
      "Requirement already satisfied: wcwidth in /home/and/.local/lib/python3.8/site-packages (from prompt-toolkit!=3.0.0,!=3.0.1,<3.1.0,>=2.0.0->IPython->mol2vec==0.1) (0.2.5)\n",
      "Requirement already satisfied: six>=1.5 in /home/and/miniforge3/envs/molecule-activity/lib/python3.8/site-packages (from python-dateutil>=2.7->matplotlib->mol2vec==0.1) (1.16.0)\n",
      "Building wheels for collected packages: mol2vec\n",
      "  Building wheel for mol2vec (setup.py) ... \u001b[?25ldone\n",
      "\u001b[?25h  Created wheel for mol2vec: filename=mol2vec-0.1-py3-none-any.whl size=14038 sha256=ceb95932fe94e1853efa36ce3132a97b6b220c912831d43abb5411d76d21135c\n",
      "  Stored in directory: /tmp/pip-ephem-wheel-cache-nzn8yso2/wheels/28/66/2a/543e91280db70c489a72de9c9fa26dca4caa7113721fb03b86\n",
      "Successfully built mol2vec\n",
      "Installing collected packages: smart-open, gensim, seaborn, mol2vec\n",
      "Successfully installed gensim-4.1.2 mol2vec-0.1 seaborn-0.11.2 smart-open-5.2.1\n"
     ]
    }
   ],
   "source": [
    "!pip install git+https://github.com/samoturk/mol2vec"
   ]
  },
  {
   "cell_type": "code",
   "execution_count": 3,
   "id": "9e4cd936",
   "metadata": {},
   "outputs": [
    {
     "name": "stdout",
     "output_type": "stream",
     "text": [
      "Collecting gensim==3.2\n",
      "  Downloading gensim-3.2.0.tar.gz (15.3 MB)\n",
      "\u001b[2K     \u001b[38;2;114;156;31m━━━━━━━━━━━━━━━━━━━━━━━━━━━━━━━━━━━━━━━━\u001b[0m \u001b[32m15.3/15.3 MB\u001b[0m \u001b[31m10.9 MB/s\u001b[0m eta \u001b[36m0:00:00\u001b[0mm eta \u001b[36m0:00:01\u001b[0m0:01\u001b[0m:01\u001b[0m\n",
      "\u001b[?25h  Preparing metadata (setup.py) ... \u001b[?25ldone\n",
      "\u001b[?25hRequirement already satisfied: numpy>=1.11.3 in /home/and/miniforge3/envs/molecule-activity/lib/python3.8/site-packages (from gensim==3.2) (1.22.2)\n",
      "Requirement already satisfied: scipy>=0.18.1 in /home/and/miniforge3/envs/molecule-activity/lib/python3.8/site-packages (from gensim==3.2) (1.8.0)\n",
      "Requirement already satisfied: six>=1.5.0 in /home/and/miniforge3/envs/molecule-activity/lib/python3.8/site-packages (from gensim==3.2) (1.16.0)\n",
      "Requirement already satisfied: smart_open>=1.2.1 in /home/and/miniforge3/envs/molecule-activity/lib/python3.8/site-packages (from gensim==3.2) (5.2.1)\n",
      "Building wheels for collected packages: gensim\n",
      "  Building wheel for gensim (setup.py) ... \u001b[?25ldone\n",
      "\u001b[?25h  Created wheel for gensim: filename=gensim-3.2.0-cp38-cp38-linux_x86_64.whl size=15446003 sha256=1cf5aceceb24098013c4f89173d47d09c0ceb6d8c594013a2e48ada2c356ff68\n",
      "  Stored in directory: /home/and/.cache/pip/wheels/47/c1/60/53087a96fa4060b88cc6e286fe9c5374e93d774c78be97ab49\n",
      "Successfully built gensim\n",
      "Installing collected packages: gensim\n",
      "  Attempting uninstall: gensim\n",
      "    Found existing installation: gensim 3.0.0\n",
      "    Uninstalling gensim-3.0.0:\n",
      "      Successfully uninstalled gensim-3.0.0\n",
      "Successfully installed gensim-3.2.0\n",
      "Note: you may need to restart the kernel to use updated packages.\n"
     ]
    }
   ],
   "source": [
    "pip install -U gensim==3.2"
   ]
  },
  {
   "cell_type": "code",
   "execution_count": 44,
   "id": "7edfa614",
   "metadata": {},
   "outputs": [],
   "source": [
    "import pandas as pd\n",
    "from pathlib import Path\n",
    "from tqdm.auto import tqdm\n",
    "from sklearn.model_selection import train_test_split\n",
    "import numpy as np\n",
    "from catboost import CatBoostClassifier\n",
    "\n",
    "from rdkit import Chem\n",
    "from gensim.models import word2vec\n",
    "from mol2vec.features import mol2alt_sentence, mol2sentence, MolSentence, DfVec, sentences2vec\n",
    "\n",
    "DATA_PATH = Path(\"../data\")\n",
    "SEED = 42\n",
    "TEST_SIZE = 0.2"
   ]
  },
  {
   "cell_type": "code",
   "execution_count": 161,
   "id": "d8a9f12e",
   "metadata": {},
   "outputs": [],
   "source": [
    "df = pd.read_csv(DATA_PATH / \"base/train.csv\").drop(\"Unnamed: 0\", axis=1)\n",
    "target = df.Active.astype(int)\n",
    "df = df.drop(\"Active\", axis=1)"
   ]
  },
  {
   "cell_type": "code",
   "execution_count": 162,
   "id": "90320dcf",
   "metadata": {},
   "outputs": [],
   "source": [
    "df[\"mol\"] = df['Smiles'].apply(lambda x: Chem.MolFromSmiles(x))"
   ]
  },
  {
   "cell_type": "code",
   "execution_count": 163,
   "id": "17cf3cbc",
   "metadata": {},
   "outputs": [],
   "source": [
    "model = word2vec.Word2Vec.load('../models/model_300dim.pkl')"
   ]
  },
  {
   "cell_type": "code",
   "execution_count": 164,
   "id": "592f4fb9",
   "metadata": {},
   "outputs": [
    {
     "name": "stdout",
     "output_type": "stream",
     "text": [
      "Molecular sentence: ['2246728737', '3542456614', '2245384272', '1173125914', '2245384272', '2257970297', '2092489639', '1634606847', '2968968094', '2803848648', '2968968094', '2142032900', '2968968094', '2117068077', '2976033787', '3482873808', '3217380708', '970433791', '3218693969', '951226070', '3218693969', '98513984', '3218693969', '951226070', '3217380708', '2905660137', '864662311', '26234434', '3218693969', '994485099', '2968968094', '2811394787', '1016845826']\n",
      "\n",
      "MolSentence object: MolSentence with 33 words\n",
      "\n",
      "DfVec object: (33, 300) dimensional vector\n"
     ]
    }
   ],
   "source": [
    "print('Molecular sentence:', mol2alt_sentence(df['mol'][1], radius=1))\n",
    "print('\\nMolSentence object:', MolSentence(mol2alt_sentence(df['mol'][1], radius=1)))\n",
    "print('\\nDfVec object:',DfVec(\n",
    "    sentences2vec(MolSentence(mol2alt_sentence(df['mol'][1], radius=1)), model, unseen='UNK')))"
   ]
  },
  {
   "cell_type": "code",
   "execution_count": 165,
   "id": "839f962a",
   "metadata": {},
   "outputs": [],
   "source": [
    "#Constructing sentences\n",
    "df['sentence'] = df.apply(lambda x: MolSentence(mol2alt_sentence(x['mol'], 1)), axis=1)\n",
    "df['mol2vec'] = [DfVec(x).vec for x in sentences2vec(df['sentence'], model, unseen='UNK')]\n",
    "# X = np.array([x.vec for x in df['mol2vec']])\n",
    "# y = target.values\n"
   ]
  },
  {
   "cell_type": "code",
   "execution_count": 168,
   "id": "e397d6ab",
   "metadata": {},
   "outputs": [],
   "source": [
    "X_train, X_test, y_train, y_test = train_test_split(df, target, test_size=TEST_SIZE, random_state=SEED)"
   ]
  },
  {
   "cell_type": "code",
   "execution_count": null,
   "id": "3c720300",
   "metadata": {},
   "outputs": [],
   "source": []
  },
  {
   "cell_type": "code",
   "execution_count": null,
   "id": "446203e4",
   "metadata": {},
   "outputs": [],
   "source": []
  },
  {
   "cell_type": "code",
   "execution_count": null,
   "id": "0443d2c6",
   "metadata": {},
   "outputs": [],
   "source": []
  },
  {
   "cell_type": "code",
   "execution_count": null,
   "id": "211079cc",
   "metadata": {},
   "outputs": [],
   "source": []
  },
  {
   "cell_type": "code",
   "execution_count": null,
   "id": "923b3c9e",
   "metadata": {},
   "outputs": [],
   "source": []
  },
  {
   "cell_type": "code",
   "execution_count": null,
   "id": "cd26882a",
   "metadata": {},
   "outputs": [],
   "source": []
  },
  {
   "cell_type": "code",
   "execution_count": null,
   "id": "0520ad1d",
   "metadata": {},
   "outputs": [],
   "source": []
  },
  {
   "cell_type": "code",
   "execution_count": 175,
   "id": "04c2b5e4",
   "metadata": {},
   "outputs": [],
   "source": [
    "pred = cat_model.predict(test_df)"
   ]
  },
  {
   "cell_type": "code",
   "execution_count": 176,
   "id": "3ee9c566",
   "metadata": {},
   "outputs": [],
   "source": [
    "pred = cat_model.predict(test_df)\n",
    "test_df = pd.read_csv(DATA_PATH / \"base/test.csv\")\n",
    "test_df[\"Active\"] = pred\n",
    "test_df[\"Active\"] = test_df[\"Active\"].astype(int)"
   ]
  },
  {
   "cell_type": "code",
   "execution_count": 177,
   "id": "c5e1bf8f",
   "metadata": {},
   "outputs": [],
   "source": [
    "test_df.to_csv(\"submission.csv\", index=False)"
   ]
  },
  {
   "cell_type": "code",
   "execution_count": null,
   "id": "11280520",
   "metadata": {},
   "outputs": [],
   "source": []
  },
  {
   "cell_type": "code",
   "execution_count": null,
   "id": "f377644c",
   "metadata": {},
   "outputs": [],
   "source": []
  },
  {
   "cell_type": "code",
   "execution_count": null,
   "id": "c78a1979",
   "metadata": {},
   "outputs": [],
   "source": []
  }
 ],
 "metadata": {
  "kernelspec": {
   "display_name": "Python 3 (ipykernel)",
   "language": "python",
   "name": "python3"
  },
  "language_info": {
   "codemirror_mode": {
    "name": "ipython",
    "version": 3
   },
   "file_extension": ".py",
   "mimetype": "text/x-python",
   "name": "python",
   "nbconvert_exporter": "python",
   "pygments_lexer": "ipython3",
   "version": "3.8.12"
  }
 },
 "nbformat": 4,
 "nbformat_minor": 5
}
