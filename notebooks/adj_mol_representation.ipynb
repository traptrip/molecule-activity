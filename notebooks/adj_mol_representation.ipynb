{
 "cells": [
  {
   "cell_type": "markdown",
   "metadata": {},
   "source": [
    "### Песочница для создания скрипта `adj_mol_representation.py`"
   ]
  },
  {
   "cell_type": "code",
   "execution_count": 2,
   "metadata": {},
   "outputs": [],
   "source": [
    "from pathlib import Path\n",
    "from collections import Counter\n",
    "from random import choice\n",
    "\n",
    "import pandas as pd\n",
    "import numpy as np\n",
    "from rdkit import Chem\n",
    "from rdkit.Chem.Draw import MolToImage, MolsToGridImage\n",
    "from rdkit.Chem.rdDistGeom import GetMoleculeBoundsMatrix\n",
    "from rdkit.Chem.rdmolops import GetAdjacencyMatrix\n",
    "\n",
    "PROJECT_DIR = Path(\"./\").resolve().parent"
   ]
  },
  {
   "cell_type": "code",
   "execution_count": 6,
   "metadata": {},
   "outputs": [
    {
     "ename": "TypeError",
     "evalue": "read_csv() got an unexpected keyword argument 'row'",
     "output_type": "error",
     "traceback": [
      "\u001b[0;31m---------------------------------------------------------------------------\u001b[0m",
      "\u001b[0;31mTypeError\u001b[0m                                 Traceback (most recent call last)",
      "\u001b[0;32m<ipython-input-6-6c8ef11c58fb>\u001b[0m in \u001b[0;36m<module>\u001b[0;34m\u001b[0m\n\u001b[0;32m----> 1\u001b[0;31m \u001b[0mdf\u001b[0m \u001b[0;34m=\u001b[0m \u001b[0mpd\u001b[0m\u001b[0;34m.\u001b[0m\u001b[0mread_csv\u001b[0m\u001b[0;34m(\u001b[0m\u001b[0mPROJECT_DIR\u001b[0m \u001b[0;34m/\u001b[0m \u001b[0;34m\"data\"\u001b[0m \u001b[0;34m/\u001b[0m \u001b[0;34m\"raw\"\u001b[0m \u001b[0;34m/\u001b[0m \u001b[0;34m\"train.csv\"\u001b[0m\u001b[0;34m,\u001b[0m \u001b[0mindex_col\u001b[0m\u001b[0;34m=\u001b[0m\u001b[0;36m0\u001b[0m\u001b[0;34m,\u001b[0m \u001b[0mrow\u001b[0m\u001b[0;34m=\u001b[0m\u001b[0;36m100\u001b[0m\u001b[0;34m)\u001b[0m\u001b[0;34m\u001b[0m\u001b[0;34m\u001b[0m\u001b[0m\n\u001b[0m",
      "\u001b[0;32m~/miniconda3/envs/audio_spoof/lib/python3.9/site-packages/pandas/util/_decorators.py\u001b[0m in \u001b[0;36mwrapper\u001b[0;34m(*args, **kwargs)\u001b[0m\n\u001b[1;32m    309\u001b[0m                     \u001b[0mstacklevel\u001b[0m\u001b[0;34m=\u001b[0m\u001b[0mstacklevel\u001b[0m\u001b[0;34m,\u001b[0m\u001b[0;34m\u001b[0m\u001b[0;34m\u001b[0m\u001b[0m\n\u001b[1;32m    310\u001b[0m                 )\n\u001b[0;32m--> 311\u001b[0;31m             \u001b[0;32mreturn\u001b[0m \u001b[0mfunc\u001b[0m\u001b[0;34m(\u001b[0m\u001b[0;34m*\u001b[0m\u001b[0margs\u001b[0m\u001b[0;34m,\u001b[0m \u001b[0;34m**\u001b[0m\u001b[0mkwargs\u001b[0m\u001b[0;34m)\u001b[0m\u001b[0;34m\u001b[0m\u001b[0;34m\u001b[0m\u001b[0m\n\u001b[0m\u001b[1;32m    312\u001b[0m \u001b[0;34m\u001b[0m\u001b[0m\n\u001b[1;32m    313\u001b[0m         \u001b[0;32mreturn\u001b[0m \u001b[0mwrapper\u001b[0m\u001b[0;34m\u001b[0m\u001b[0;34m\u001b[0m\u001b[0m\n",
      "\u001b[0;31mTypeError\u001b[0m: read_csv() got an unexpected keyword argument 'row'"
     ]
    }
   ],
   "source": [
    "df = pd.read_csv(PROJECT_DIR / \"data\" / \"raw\" / \"train.csv\", index_col=0, row=100)"
   ]
  },
  {
   "cell_type": "code",
   "execution_count": 2,
   "metadata": {},
   "outputs": [],
   "source": [
    "df = pd.read_csv(PROJECT_DIR / \"data\" / \"raw\" / \"train.csv\", index_col=0)\n",
    "\n",
    "train_mol_files = list()\n",
    "for mol_file in (PROJECT_DIR / 'data' / 'interim' / 'train_mol_files').iterdir():\n",
    "    train_mol_files.append((mol_file.stat().st_size, int(mol_file.stem)))\n",
    "\n",
    "_, large_files = zip(*sorted(train_mol_files, reverse=True)[0:213])\n",
    "df = df.loc[~df.index.isin(large_files)]"
   ]
  },
  {
   "cell_type": "code",
   "execution_count": 7,
   "metadata": {},
   "outputs": [
    {
     "name": "stdout",
     "output_type": "stream",
     "text": [
      "(1342, 1459, 498, 1417, 1265, 1316, 1287, 16, 1440, 988, 548, 1390, 598, 1428, 767, 1189, 472, 360, 861, 1485, 482, 899, 1274, 1376, 1606, 382, 154, 1170, 512, 189, 1391, 1360, 963, 719, 1547, 198, 365, 921, 17, 1545, 732, 1325, 1361, 1064, 1465, 1347, 680, 208, 701, 391, 862, 1297, 653, 10, 34, 434, 1462, 803, 1019, 1244, 1033, 597)\n"
     ]
    }
   ],
   "source": [
    "print(large_files)"
   ]
  },
  {
   "cell_type": "code",
   "execution_count": 6,
   "metadata": {},
   "outputs": [],
   "source": [
    "df = pd.read_csv(PROJECT_DIR / \"data\" / \"raw\" / \"test.csv\", index_col=0)\n",
    "\n",
    "test_mol_files = list()\n",
    "for mol_file in (PROJECT_DIR / 'data' / 'interim' / 'test_mol_files').iterdir():\n",
    "    test_mol_files.append((mol_file.stat().st_size, int(mol_file.stem)))\n",
    "\n",
    "_, large_files = zip(*sorted(test_mol_files, reverse=True)[0:62])\n",
    "df = df.loc[~df.index.isin(large_files)]"
   ]
  },
  {
   "cell_type": "code",
   "execution_count": 52,
   "metadata": {},
   "outputs": [
    {
     "name": "stdout",
     "output_type": "stream",
     "text": [
      "<class 'pandas.core.frame.DataFrame'>\n",
      "Int64Index: 1552 entries, 0 to 1613\n",
      "Data columns (total 1 columns):\n",
      " #   Column  Non-Null Count  Dtype \n",
      "---  ------  --------------  ----- \n",
      " 0   Smiles  1552 non-null   object\n",
      "dtypes: object(1)\n",
      "memory usage: 24.2+ KB\n"
     ]
    }
   ],
   "source": [
    "df.info()"
   ]
  },
  {
   "cell_type": "code",
   "execution_count": 46,
   "metadata": {},
   "outputs": [
    {
     "data": {
      "text/plain": [
       "15"
      ]
     },
     "execution_count": 46,
     "metadata": {},
     "output_type": "execute_result"
    }
   ],
   "source": [
    "def update_maximum(curr_counter, max_coutnter) -> Counter:\n",
    "    new_counter = Counter()\n",
    "    atoms = set(list(curr_counter.keys()) + list(max_coutnter.keys()))\n",
    "    for atom in atoms:\n",
    "        new_counter[atom] = max(curr_counter[atom], max_coutnter[atom])\n",
    "    return new_counter\n",
    "\n",
    "max_coutnter = Counter()\n",
    "for smiles in df['Smiles'].to_list():\n",
    "    mol = Chem.MolFromSmiles(smiles)\n",
    "    mol_seq = [item.GetSymbol() for item in mol.GetAtoms()]\n",
    "    curr_counter = Counter(mol_seq)\n",
    "\n",
    "    if curr_counter[\"H\"] == 6:\n",
    "        print(smiles)\n",
    "\n",
    "    max_coutnter = update_maximum(curr_counter, max_coutnter)\n",
    "\n",
    "len(max_coutnter)"
   ]
  },
  {
   "cell_type": "code",
   "execution_count": 41,
   "metadata": {},
   "outputs": [],
   "source": [
    "# old_max_coutnter = max_coutnter.copy()"
   ]
  },
  {
   "cell_type": "code",
   "execution_count": 47,
   "metadata": {},
   "outputs": [],
   "source": [
    "max_coutnter = update_maximum(old_max_coutnter, max_coutnter)"
   ]
  },
  {
   "cell_type": "code",
   "execution_count": 50,
   "metadata": {},
   "outputs": [
    {
     "data": {
      "text/plain": [
       "Counter({'S': 4,\n",
       "         'Cl': 6,\n",
       "         'C': 40,\n",
       "         'Mg': 3,\n",
       "         'K': 1,\n",
       "         'Si': 4,\n",
       "         'N': 10,\n",
       "         'Zn': 1,\n",
       "         'P': 4,\n",
       "         'Sr': 2,\n",
       "         'As': 4,\n",
       "         'Ca': 1,\n",
       "         'O': 18,\n",
       "         'H': 6,\n",
       "         'Br': 6,\n",
       "         'F': 21,\n",
       "         'I': 6,\n",
       "         'Ag': 1,\n",
       "         'Na': 3,\n",
       "         'B': 2,\n",
       "         'Se': 1,\n",
       "         'Li': 3})"
      ]
     },
     "execution_count": 50,
     "metadata": {},
     "output_type": "execute_result"
    }
   ],
   "source": [
    "max_coutnter"
   ]
  },
  {
   "cell_type": "code",
   "execution_count": 49,
   "metadata": {},
   "outputs": [
    {
     "data": {
      "text/plain": [
       "10731"
      ]
     },
     "execution_count": 49,
     "metadata": {},
     "output_type": "execute_result"
    }
   ],
   "source": [
    "(sum(max_coutnter.values()) ** 2 - sum(max_coutnter.values())) // 2"
   ]
  },
  {
   "cell_type": "code",
   "execution_count": 13,
   "metadata": {},
   "outputs": [],
   "source": [
    "# for atom in old_max_coutnter:\n",
    "#     if old_max_coutnter[atom] >= max_coutnter[atom]:\n",
    "#         print(\"cool\")\n",
    "#     else:\n",
    "#         print(\"not cool\")\n",
    "#         print(atom)"
   ]
  },
  {
   "cell_type": "code",
   "execution_count": 17,
   "metadata": {},
   "outputs": [
    {
     "data": {
      "text/plain": [
       "84255"
      ]
     },
     "execution_count": 17,
     "metadata": {},
     "output_type": "execute_result"
    }
   ],
   "source": [
    "(len(header) ** 2 - len(header)) // 2"
   ]
  },
  {
   "cell_type": "code",
   "execution_count": 15,
   "metadata": {},
   "outputs": [
    {
     "name": "stdout",
     "output_type": "stream",
     "text": [
      "['Ag_0', 'Al_0', 'Al_1', 'Al_2', 'Al_3', 'Al_4', 'Al_5', 'Al_6', 'Al_7', 'Al_8', 'Al_9', 'Al_10', 'Al_11', 'Al_12', 'Al_13', 'Al_14', 'Al_15', 'As_0', 'As_1', 'As_2', 'As_3', 'B_0', 'B_1', 'Br_0', 'Br_1', 'Br_2', 'Br_3', 'Br_4', 'Br_5', 'C_0', 'C_1', 'C_2', 'C_3', 'C_4', 'C_5', 'C_6', 'C_7', 'C_8', 'C_9', 'C_10', 'C_11', 'C_12', 'C_13', 'C_14', 'C_15', 'C_16', 'C_17', 'C_18', 'C_19', 'C_20', 'C_21', 'C_22', 'C_23', 'C_24', 'C_25', 'C_26', 'C_27', 'C_28', 'C_29', 'C_30', 'C_31', 'C_32', 'C_33', 'C_34', 'C_35', 'C_36', 'C_37', 'C_38', 'C_39', 'C_40', 'C_41', 'C_42', 'C_43', 'C_44', 'C_45', 'C_46', 'C_47', 'C_48', 'C_49', 'C_50', 'C_51', 'C_52', 'C_53', 'C_54', 'C_55', 'C_56', 'C_57', 'C_58', 'C_59', 'C_60', 'C_61', 'C_62', 'C_63', 'C_64', 'C_65', 'C_66', 'C_67', 'C_68', 'C_69', 'C_70', 'C_71', 'C_72', 'C_73', 'C_74', 'C_75', 'C_76', 'C_77', 'C_78', 'C_79', 'C_80', 'C_81', 'C_82', 'C_83', 'C_84', 'C_85', 'C_86', 'C_87', 'C_88', 'C_89', 'C_90', 'C_91', 'C_92', 'C_93', 'C_94', 'C_95', 'C_96', 'C_97', 'C_98', 'C_99', 'C_100', 'C_101', 'C_102', 'C_103', 'C_104', 'C_105', 'C_106', 'C_107', 'C_108', 'C_109', 'C_110', 'C_111', 'C_112', 'C_113', 'C_114', 'C_115', 'C_116', 'C_117', 'C_118', 'C_119', 'C_120', 'C_121', 'C_122', 'C_123', 'C_124', 'C_125', 'C_126', 'C_127', 'C_128', 'C_129', 'C_130', 'C_131', 'C_132', 'C_133', 'C_134', 'C_135', 'C_136', 'C_137', 'C_138', 'C_139', 'C_140', 'C_141', 'C_142', 'C_143', 'C_144', 'C_145', 'C_146', 'C_147', 'C_148', 'C_149', 'C_150', 'C_151', 'C_152', 'C_153', 'C_154', 'C_155', 'C_156', 'C_157', 'C_158', 'C_159', 'C_160', 'C_161', 'C_162', 'C_163', 'C_164', 'C_165', 'C_166', 'C_167', 'C_168', 'C_169', 'C_170', 'C_171', 'C_172', 'C_173', 'C_174', 'C_175', 'C_176', 'C_177', 'C_178', 'C_179', 'C_180', 'C_181', 'C_182', 'C_183', 'Ca_0', 'Cl_0', 'Cl_1', 'Cl_2', 'Cl_3', 'Cl_4', 'Cl_5', 'F_0', 'F_1', 'F_2', 'F_3', 'F_4', 'F_5', 'F_6', 'F_7', 'F_8', 'F_9', 'F_10', 'F_11', 'F_12', 'F_13', 'F_14', 'F_15', 'F_16', 'F_17', 'F_18', 'F_19', 'F_20', 'H_0', 'H_1', 'H_2', 'H_3', 'H_4', 'H_5', 'I_0', 'I_1', 'I_2', 'I_3', 'I_4', 'I_5', 'K_0', 'Li_0', 'Li_1', 'Li_2', 'Mg_0', 'Mg_1', 'Mg_2', 'N_0', 'N_1', 'N_2', 'N_3', 'N_4', 'N_5', 'N_6', 'N_7', 'N_8', 'N_9', 'N_10', 'N_11', 'N_12', 'N_13', 'N_14', 'N_15', 'N_16', 'N_17', 'N_18', 'N_19', 'N_20', 'N_21', 'N_22', 'N_23', 'N_24', 'N_25', 'N_26', 'N_27', 'N_28', 'N_29', 'N_30', 'N_31', 'N_32', 'N_33', 'N_34', 'N_35', 'N_36', 'N_37', 'N_38', 'N_39', 'N_40', 'N_41', 'N_42', 'N_43', 'N_44', 'N_45', 'N_46', 'N_47', 'N_48', 'N_49', 'Na_0', 'Na_1', 'Na_2', 'Na_3', 'Na_4', 'Na_5', 'O_0', 'O_1', 'O_2', 'O_3', 'O_4', 'O_5', 'O_6', 'O_7', 'O_8', 'O_9', 'O_10', 'O_11', 'O_12', 'O_13', 'O_14', 'O_15', 'O_16', 'O_17', 'O_18', 'O_19', 'O_20', 'O_21', 'O_22', 'O_23', 'O_24', 'O_25', 'O_26', 'O_27', 'O_28', 'O_29', 'O_30', 'O_31', 'O_32', 'O_33', 'O_34', 'O_35', 'O_36', 'O_37', 'O_38', 'O_39', 'O_40', 'O_41', 'O_42', 'O_43', 'O_44', 'O_45', 'O_46', 'O_47', 'O_48', 'O_49', 'O_50', 'O_51', 'O_52', 'O_53', 'O_54', 'O_55', 'O_56', 'O_57', 'O_58', 'O_59', 'O_60', 'O_61', 'O_62', 'O_63', 'O_64', 'O_65', 'O_66', 'O_67', 'O_68', 'O_69', 'O_70', 'O_71', 'O_72', 'O_73', 'O_74', 'P_0', 'P_1', 'P_2', 'P_3', 'S_0', 'S_1', 'S_2', 'S_3', 'S_4', 'S_5', 'S_6', 'S_7', 'Se_0', 'Si_0', 'Si_1', 'Si_2', 'Si_3', 'Sr_0', 'Sr_1', 'Zn_0']\n"
     ]
    }
   ],
   "source": [
    "header = list()\n",
    "for atom in sorted(max_coutnter):\n",
    "    for idx in range(max_coutnter[atom]):\n",
    "        header.append(f\"{atom}_{idx}\")\n",
    "print(header)"
   ]
  },
  {
   "cell_type": "code",
   "execution_count": 57,
   "metadata": {},
   "outputs": [],
   "source": [
    "for smiles in df[\"Smiles\"].to_list()[0:1]:\n",
    "    mol = Chem.MolFromSmiles(smiles)\n",
    "    atoms_list = list(mol.GetAtoms())\n",
    "\n",
    "    # доступные индексы для каждого элемента\n",
    "    available_numbers = dict()\n",
    "    for atom in atoms_list:\n",
    "        available_numbers[atom.GetSymbol()] = [idx for idx in range(max_coutnter[atom.GetSymbol()])]\n",
    "\n",
    "    # словарь соответсвия индекс_в_молекуле : имя_колонки_датафрейма\n",
    "    match_dict = dict()\n",
    "    for idx in range(len(atoms_list)):\n",
    "        atom_symb = atoms_list[idx].GetSymbol()\n",
    "        atom_number = choice(available_numbers[atom_symb])\n",
    "        match_dict[idx] = f\"{atom_symb}_{atom_number}\"\n",
    "        available_numbers[atom_symb].remove(atom_number)\n",
    "    \n",
    "    adj_matrix = [[0 for _ in range(len(header))] for _ in range(len(header))]\n",
    "    for atom in atoms_list:\n",
    "        for bond in atom.GetBonds():\n",
    "            bond_type = bond.GetBondTypeAsDouble()\n",
    "            begin_atom = bond.GetBeginAtom()\n",
    "            end_atom = bond.GetEndAtom()\n",
    "            \n",
    "            adj_idx1 = header.index( match_dict[begin_atom.GetIdx()] )\n",
    "            adj_idx2 = header.index( match_dict[end_atom.GetIdx()] )\n",
    "            adj_matrix[adj_idx1][adj_idx2] = bond_type\n",
    "            adj_matrix[adj_idx2][adj_idx1] = bond_type\n",
    "    \n",
    "    data_line = list()\n",
    "    for adj_idx in range(len(adj_matrix)):\n",
    "        data_line.extend(adj_matrix[adj_idx][0:adj_idx])\n",
    "\n",
    "new_header = list()\n",
    "for adj_idx in range(len(header)):\n",
    "    for j in range(adj_idx):\n",
    "        new_header.append(f\"{header[adj_idx]}_{j}\")"
   ]
  },
  {
   "cell_type": "code",
   "execution_count": 59,
   "metadata": {},
   "outputs": [
    {
     "data": {
      "text/plain": [
       "65341"
      ]
     },
     "execution_count": 59,
     "metadata": {},
     "output_type": "execute_result"
    }
   ],
   "source": [
    "len(new_header)"
   ]
  },
  {
   "cell_type": "code",
   "execution_count": 7,
   "metadata": {},
   "outputs": [],
   "source": [
    "string = 'Nc1ccc(O)c2ncccc12'\n",
    "mol = Chem.MolFromSmiles(string)\n",
    "atoms_list = list(mol.GetAtoms())\n",
    "\n",
    "# доступные индексы для каждого элемента\n",
    "available_numbers = dict()\n",
    "for atom in atoms_list:\n",
    "    available_numbers[atom.GetSymbol()] = [idx for idx in range(max_coutnter[atom.GetSymbol()])]\n",
    "\n",
    "# словарь соответсвия индекс_в_молекуле : имя_колонки_датафрейма\n",
    "match_dict = dict()\n",
    "for idx in range(len(atoms_list)):\n",
    "    atom_symb = atoms_list[idx].GetSymbol()\n",
    "    atom_number = choice(available_numbers[atom_symb])\n",
    "    match_dict[idx] = f\"{atom_symb}_{atom_number}\"\n",
    "    available_numbers[atom_symb].remove(atom_number)"
   ]
  },
  {
   "cell_type": "code",
   "execution_count": 36,
   "metadata": {},
   "outputs": [],
   "source": [
    "adj_matrix = [[0 for _ in range(len(header))] for _ in range(len(header))]\n",
    "for atom in atoms_list:\n",
    "    for bond in atom.GetBonds():\n",
    "        bond_type = bond.GetBondTypeAsDouble()\n",
    "        begin_atom = bond.GetBeginAtom()\n",
    "        end_atom = bond.GetEndAtom()\n",
    "        \n",
    "        adj_idx1 = header.index( match_dict[begin_atom.GetIdx()] )\n",
    "        adj_idx2 = header.index( match_dict[end_atom.GetIdx()] )\n",
    "        adj_matrix[adj_idx1][adj_idx2] = bond_type\n",
    "        adj_matrix[adj_idx2][adj_idx1] = bond_type"
   ]
  },
  {
   "cell_type": "code",
   "execution_count": 48,
   "metadata": {},
   "outputs": [],
   "source": [
    "data_line = list()\n",
    "for adj_idx in range(len(adj_matrix)):\n",
    "    data_line.extend(adj_matrix[adj_idx][0:adj_idx])"
   ]
  },
  {
   "cell_type": "code",
   "execution_count": 49,
   "metadata": {},
   "outputs": [
    {
     "data": {
      "text/plain": [
       "65341"
      ]
     },
     "execution_count": 49,
     "metadata": {},
     "output_type": "execute_result"
    }
   ],
   "source": [
    "len(data_line)"
   ]
  },
  {
   "cell_type": "code",
   "execution_count": 52,
   "metadata": {},
   "outputs": [],
   "source": [
    "new_header = list()\n",
    "for adj_idx in range(len(header)):\n",
    "    for j in range(adj_idx):\n",
    "        new_header.append(f\"{header[adj_idx]}_{j}\")"
   ]
  },
  {
   "cell_type": "code",
   "execution_count": 34,
   "metadata": {},
   "outputs": [
    {
     "data": {
      "image/png": "[encoded data removed]",
      "text/plain": [
       "<PIL.PngImagePlugin.PngImageFile image mode=RGB size=300x300 at 0x7EFBFE259F10>"
      ]
     },
     "execution_count": 34,
     "metadata": {},
     "output_type": "execute_result"
    }
   ],
   "source": [
    "string = '[2H]C([2H])([2H])C(O)(CCO[C@@H](C)[C@H]1CC[C@H]2/C(=C/C=C3/C[C@@H](O)C[C@H](O)C3=C)CCC[C@]12C)C([2H])([2H])[2H]'\n",
    "mol = Chem.MolFromSmiles(string)\n",
    "MolToImage(mol)"
   ]
  },
  {
   "cell_type": "code",
   "execution_count": null,
   "metadata": {},
   "outputs": [],
   "source": []
  }
 ],
 "metadata": {
  "interpreter": {
   "hash": "ca1a56008aea3d0d1a51692f38ca5eeb81d08428379e991097172c30d87fe8d1"
  },
  "kernelspec": {
   "display_name": "Python 3.9.2 ('audio_spoof')",
   "language": "python",
   "name": "python3"
  },
  "language_info": {
   "codemirror_mode": {
    "name": "ipython",
    "version": 3
   },
   "file_extension": ".py",
   "mimetype": "text/x-python",
   "name": "python",
   "nbconvert_exporter": "python",
   "pygments_lexer": "ipython3",
   "version": "3.9.2"
  },
  "orig_nbformat": 4
 },
 "nbformat": 4,
 "nbformat_minor": 2
}
